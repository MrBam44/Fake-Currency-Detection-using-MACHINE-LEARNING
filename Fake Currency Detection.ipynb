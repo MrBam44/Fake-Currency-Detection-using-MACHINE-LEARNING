{
 "cells": [
  {
   "cell_type": "markdown",
   "id": "e18e6f88",
   "metadata": {},
   "source": [
    "<h1 align=\"center\">Fake Currency Detection</h1>     "
   ]
  },
  {
   "cell_type": "markdown",
   "id": "48755ef9",
   "metadata": {},
   "source": [
    "# Introduction\n",
    "Fake Currency Detection is a real problem for both individuals and businesses. Counterfeiters are constantly finding new methods and techniques to produce counterfeit banknotes, which are essentially indistinguishable from real money. At least for the human eye. In this article, I will introduce you to Fake Currency Detection with Machine Learning.\n",
    "\n",
    "Fake Currency Detection is a task of binary classification in machine learning. If we have enough data on real and fake banknotes, we can use that data to train a model that can classify the new banknotes as real or fake."
   ]
  },
  {
   "cell_type": "code",
   "execution_count": 1,
   "id": "8420a140",
   "metadata": {},
   "outputs": [],
   "source": [
    "import numpy as np\n",
    "import pandas as pd\n",
    "import seaborn as sns\n",
    "import matplotlib.pyplot as plt\n",
    "from sklearn.model_selection import train_test_split\n",
    "from sklearn.preprocessing import StandardScaler\n",
    "from sklearn.linear_model import LogisticRegression\n",
    "from sklearn.metrics import confusion_matrix\n",
    "import warnings\n",
    "warnings.filterwarnings(\"ignore\")"
   ]
  },
  {
   "cell_type": "markdown",
   "id": "51d87ce1",
   "metadata": {},
   "source": [
    "Now, let’s have a look at the dataset, the data does not have headings so I will also assign headings in the process and then I will print the first 5 rows from the data:"
   ]
  },
  {
   "cell_type": "code",
   "execution_count": 2,
   "id": "5ed6e8dd",
   "metadata": {},
   "outputs": [
    {
     "data": {
      "text/html": [
       "<div>\n",
       "<style scoped>\n",
       "    .dataframe tbody tr th:only-of-type {\n",
       "        vertical-align: middle;\n",
       "    }\n",
       "\n",
       "    .dataframe tbody tr th {\n",
       "        vertical-align: top;\n",
       "    }\n",
       "\n",
       "    .dataframe thead th {\n",
       "        text-align: right;\n",
       "    }\n",
       "</style>\n",
       "<table border=\"1\" class=\"dataframe\">\n",
       "  <thead>\n",
       "    <tr style=\"text-align: right;\">\n",
       "      <th></th>\n",
       "      <th>0</th>\n",
       "      <th>1</th>\n",
       "      <th>2</th>\n",
       "      <th>3</th>\n",
       "      <th>4</th>\n",
       "    </tr>\n",
       "  </thead>\n",
       "  <tbody>\n",
       "    <tr>\n",
       "      <th>0</th>\n",
       "      <td>variance</td>\n",
       "      <td>skewness</td>\n",
       "      <td>curtosis</td>\n",
       "      <td>entropy</td>\n",
       "      <td>Target</td>\n",
       "    </tr>\n",
       "    <tr>\n",
       "      <th>1</th>\n",
       "      <td>3.6216</td>\n",
       "      <td>8.6661</td>\n",
       "      <td>-2.8073</td>\n",
       "      <td>-0.44699</td>\n",
       "      <td>0</td>\n",
       "    </tr>\n",
       "    <tr>\n",
       "      <th>2</th>\n",
       "      <td>4.5459</td>\n",
       "      <td>8.1674</td>\n",
       "      <td>-2.4586</td>\n",
       "      <td>-1.4621</td>\n",
       "      <td>0</td>\n",
       "    </tr>\n",
       "    <tr>\n",
       "      <th>3</th>\n",
       "      <td>3.866</td>\n",
       "      <td>-2.6383</td>\n",
       "      <td>1.9242</td>\n",
       "      <td>0.10645</td>\n",
       "      <td>0</td>\n",
       "    </tr>\n",
       "    <tr>\n",
       "      <th>4</th>\n",
       "      <td>3.4566</td>\n",
       "      <td>9.5228</td>\n",
       "      <td>-4.0112</td>\n",
       "      <td>-3.5944</td>\n",
       "      <td>0</td>\n",
       "    </tr>\n",
       "    <tr>\n",
       "      <th>5</th>\n",
       "      <td>0.32924</td>\n",
       "      <td>-4.4552</td>\n",
       "      <td>4.5718</td>\n",
       "      <td>-0.9888</td>\n",
       "      <td>0</td>\n",
       "    </tr>\n",
       "    <tr>\n",
       "      <th>6</th>\n",
       "      <td>4.3684</td>\n",
       "      <td>9.6718</td>\n",
       "      <td>-3.9606</td>\n",
       "      <td>-3.1625</td>\n",
       "      <td>0</td>\n",
       "    </tr>\n",
       "    <tr>\n",
       "      <th>7</th>\n",
       "      <td>3.5912</td>\n",
       "      <td>3.0129</td>\n",
       "      <td>0.72888</td>\n",
       "      <td>0.56421</td>\n",
       "      <td>0</td>\n",
       "    </tr>\n",
       "    <tr>\n",
       "      <th>8</th>\n",
       "      <td>2.0922</td>\n",
       "      <td>-6.81</td>\n",
       "      <td>8.4636</td>\n",
       "      <td>-0.60216</td>\n",
       "      <td>0</td>\n",
       "    </tr>\n",
       "    <tr>\n",
       "      <th>9</th>\n",
       "      <td>3.2032</td>\n",
       "      <td>5.7588</td>\n",
       "      <td>-0.75345</td>\n",
       "      <td>-0.61251</td>\n",
       "      <td>0</td>\n",
       "    </tr>\n",
       "  </tbody>\n",
       "</table>\n",
       "</div>"
      ],
      "text/plain": [
       "          0         1         2         3       4\n",
       "0  variance  skewness  curtosis   entropy  Target\n",
       "1    3.6216    8.6661   -2.8073  -0.44699       0\n",
       "2    4.5459    8.1674   -2.4586   -1.4621       0\n",
       "3     3.866   -2.6383    1.9242   0.10645       0\n",
       "4    3.4566    9.5228   -4.0112   -3.5944       0\n",
       "5   0.32924   -4.4552    4.5718   -0.9888       0\n",
       "6    4.3684    9.6718   -3.9606   -3.1625       0\n",
       "7    3.5912    3.0129   0.72888   0.56421       0\n",
       "8    2.0922     -6.81    8.4636  -0.60216       0\n",
       "9    3.2032    5.7588  -0.75345  -0.61251       0"
      ]
     },
     "execution_count": 2,
     "metadata": {},
     "output_type": "execute_result"
    }
   ],
   "source": [
    "#importing dataset\n",
    "data = pd.read_csv(\"C:/Users/kolis/Downloads/bank_notes.csv\", header= None)\n",
    "data.head(10)"
   ]
  },
  {
   "cell_type": "code",
   "execution_count": 3,
   "id": "e52909b3",
   "metadata": {},
   "outputs": [],
   "source": [
    "data.columns= ['var','skew', 'curt', 'entr', 'auth']"
   ]
  },
  {
   "cell_type": "code",
   "execution_count": 4,
   "id": "18d6c269",
   "metadata": {},
   "outputs": [
    {
     "name": "stdout",
     "output_type": "stream",
     "text": [
      "        var      skew      curt      entr    auth\n",
      "0  variance  skewness  curtosis   entropy  Target\n",
      "1    3.6216    8.6661   -2.8073  -0.44699       0\n",
      "2    4.5459    8.1674   -2.4586   -1.4621       0\n",
      "3     3.866   -2.6383    1.9242   0.10645       0\n",
      "4    3.4566    9.5228   -4.0112   -3.5944       0\n",
      "5   0.32924   -4.4552    4.5718   -0.9888       0\n",
      "6    4.3684    9.6718   -3.9606   -3.1625       0\n",
      "7    3.5912    3.0129   0.72888   0.56421       0\n",
      "8    2.0922     -6.81    8.4636  -0.60216       0\n",
      "9    3.2032    5.7588  -0.75345  -0.61251       0\n"
     ]
    }
   ],
   "source": [
    "print(data.head(10))"
   ]
  },
  {
   "cell_type": "code",
   "execution_count": 5,
   "id": "307c46f3",
   "metadata": {},
   "outputs": [
    {
     "data": {
      "text/html": [
       "<div>\n",
       "<style scoped>\n",
       "    .dataframe tbody tr th:only-of-type {\n",
       "        vertical-align: middle;\n",
       "    }\n",
       "\n",
       "    .dataframe tbody tr th {\n",
       "        vertical-align: top;\n",
       "    }\n",
       "\n",
       "    .dataframe thead th {\n",
       "        text-align: right;\n",
       "    }\n",
       "</style>\n",
       "<table border=\"1\" class=\"dataframe\">\n",
       "  <thead>\n",
       "    <tr style=\"text-align: right;\">\n",
       "      <th></th>\n",
       "      <th>var</th>\n",
       "      <th>skew</th>\n",
       "      <th>curt</th>\n",
       "      <th>entr</th>\n",
       "      <th>auth</th>\n",
       "    </tr>\n",
       "  </thead>\n",
       "  <tbody>\n",
       "    <tr>\n",
       "      <th>1368</th>\n",
       "      <td>0.40614</td>\n",
       "      <td>1.3492</td>\n",
       "      <td>-1.4501</td>\n",
       "      <td>-0.55949</td>\n",
       "      <td>1</td>\n",
       "    </tr>\n",
       "    <tr>\n",
       "      <th>1369</th>\n",
       "      <td>-1.3887</td>\n",
       "      <td>-4.8773</td>\n",
       "      <td>6.4774</td>\n",
       "      <td>0.34179</td>\n",
       "      <td>1</td>\n",
       "    </tr>\n",
       "    <tr>\n",
       "      <th>1370</th>\n",
       "      <td>-3.7503</td>\n",
       "      <td>-13.4586</td>\n",
       "      <td>17.5932</td>\n",
       "      <td>-2.7771</td>\n",
       "      <td>1</td>\n",
       "    </tr>\n",
       "    <tr>\n",
       "      <th>1371</th>\n",
       "      <td>-3.5637</td>\n",
       "      <td>-8.3827</td>\n",
       "      <td>12.393</td>\n",
       "      <td>-1.2823</td>\n",
       "      <td>1</td>\n",
       "    </tr>\n",
       "    <tr>\n",
       "      <th>1372</th>\n",
       "      <td>-2.5419</td>\n",
       "      <td>-0.65804</td>\n",
       "      <td>2.6842</td>\n",
       "      <td>1.1952</td>\n",
       "      <td>1</td>\n",
       "    </tr>\n",
       "  </tbody>\n",
       "</table>\n",
       "</div>"
      ],
      "text/plain": [
       "          var      skew     curt      entr auth\n",
       "1368  0.40614    1.3492  -1.4501  -0.55949    1\n",
       "1369  -1.3887   -4.8773   6.4774   0.34179    1\n",
       "1370  -3.7503  -13.4586  17.5932   -2.7771    1\n",
       "1371  -3.5637   -8.3827   12.393   -1.2823    1\n",
       "1372  -2.5419  -0.65804   2.6842    1.1952    1"
      ]
     },
     "execution_count": 5,
     "metadata": {},
     "output_type": "execute_result"
    }
   ],
   "source": [
    "data.tail()"
   ]
  },
  {
   "cell_type": "code",
   "execution_count": 6,
   "id": "15c084b9",
   "metadata": {},
   "outputs": [
    {
     "data": {
      "text/plain": [
       "(1373, 5)"
      ]
     },
     "execution_count": 6,
     "metadata": {},
     "output_type": "execute_result"
    }
   ],
   "source": [
    "data.shape"
   ]
  },
  {
   "cell_type": "markdown",
   "id": "1fa39aa9",
   "metadata": {},
   "source": [
    "# Data Exploration\n",
    "Now let’s start exploring the dataset. First, I’ll check the data types and if there are any missing values ​​in the data:"
   ]
  },
  {
   "cell_type": "code",
   "execution_count": 7,
   "id": "556aa37e",
   "metadata": {
    "scrolled": true
   },
   "outputs": [
    {
     "name": "stdout",
     "output_type": "stream",
     "text": [
      "<class 'pandas.core.frame.DataFrame'>\n",
      "RangeIndex: 1373 entries, 0 to 1372\n",
      "Data columns (total 5 columns):\n",
      " #   Column  Non-Null Count  Dtype \n",
      "---  ------  --------------  ----- \n",
      " 0   var     1373 non-null   object\n",
      " 1   skew    1373 non-null   object\n",
      " 2   curt    1373 non-null   object\n",
      " 3   entr    1373 non-null   object\n",
      " 4   auth    1373 non-null   object\n",
      "dtypes: object(5)\n",
      "memory usage: 53.8+ KB\n"
     ]
    }
   ],
   "source": [
    "data.info()"
   ]
  },
  {
   "cell_type": "markdown",
   "id": "e8db1dba",
   "metadata": {},
   "source": [
    "We, therefore, have no missing values in the data."
   ]
  },
  {
   "cell_type": "code",
   "execution_count": 8,
   "id": "98a69516",
   "metadata": {},
   "outputs": [
    {
     "data": {
      "text/html": [
       "<div>\n",
       "<style scoped>\n",
       "    .dataframe tbody tr th:only-of-type {\n",
       "        vertical-align: middle;\n",
       "    }\n",
       "\n",
       "    .dataframe tbody tr th {\n",
       "        vertical-align: top;\n",
       "    }\n",
       "\n",
       "    .dataframe thead th {\n",
       "        text-align: right;\n",
       "    }\n",
       "</style>\n",
       "<table border=\"1\" class=\"dataframe\">\n",
       "  <thead>\n",
       "    <tr style=\"text-align: right;\">\n",
       "      <th></th>\n",
       "      <th>var</th>\n",
       "      <th>skew</th>\n",
       "      <th>curt</th>\n",
       "      <th>entr</th>\n",
       "      <th>auth</th>\n",
       "    </tr>\n",
       "  </thead>\n",
       "  <tbody>\n",
       "    <tr>\n",
       "      <th>count</th>\n",
       "      <td>1373</td>\n",
       "      <td>1373</td>\n",
       "      <td>1373</td>\n",
       "      <td>1373</td>\n",
       "      <td>1373</td>\n",
       "    </tr>\n",
       "    <tr>\n",
       "      <th>unique</th>\n",
       "      <td>1339</td>\n",
       "      <td>1257</td>\n",
       "      <td>1271</td>\n",
       "      <td>1157</td>\n",
       "      <td>3</td>\n",
       "    </tr>\n",
       "    <tr>\n",
       "      <th>top</th>\n",
       "      <td>0.5706</td>\n",
       "      <td>-4.4552</td>\n",
       "      <td>4.5718</td>\n",
       "      <td>-0.9888</td>\n",
       "      <td>0</td>\n",
       "    </tr>\n",
       "    <tr>\n",
       "      <th>freq</th>\n",
       "      <td>5</td>\n",
       "      <td>6</td>\n",
       "      <td>5</td>\n",
       "      <td>5</td>\n",
       "      <td>762</td>\n",
       "    </tr>\n",
       "  </tbody>\n",
       "</table>\n",
       "</div>"
      ],
      "text/plain": [
       "           var     skew    curt     entr  auth\n",
       "count     1373     1373    1373     1373  1373\n",
       "unique    1339     1257    1271     1157     3\n",
       "top     0.5706  -4.4552  4.5718  -0.9888     0\n",
       "freq         5        6       5        5   762"
      ]
     },
     "execution_count": 8,
     "metadata": {},
     "output_type": "execute_result"
    }
   ],
   "source": [
    "data.describe()"
   ]
  },
  {
   "cell_type": "code",
   "execution_count": 9,
   "id": "9752e3f2",
   "metadata": {},
   "outputs": [],
   "source": [
    "data= data.iloc[1: , : ]"
   ]
  },
  {
   "cell_type": "code",
   "execution_count": 10,
   "id": "16cd856d",
   "metadata": {},
   "outputs": [
    {
     "data": {
      "text/plain": [
       "var     0\n",
       "skew    0\n",
       "curt    0\n",
       "entr    0\n",
       "auth    0\n",
       "dtype: int64"
      ]
     },
     "execution_count": 10,
     "metadata": {},
     "output_type": "execute_result"
    }
   ],
   "source": [
    "data.isnull().sum()"
   ]
  },
  {
   "cell_type": "markdown",
   "id": "dd921a1e",
   "metadata": {},
   "source": [
    "As we can  see there is no null value in our dataset"
   ]
  },
  {
   "cell_type": "code",
   "execution_count": 11,
   "id": "d0534c8d",
   "metadata": {},
   "outputs": [
    {
     "name": "stdout",
     "output_type": "stream",
     "text": [
      "          var      skew     curt      entr auth\n",
      "1      3.6216    8.6661  -2.8073  -0.44699    0\n",
      "2      4.5459    8.1674  -2.4586   -1.4621    0\n",
      "3       3.866   -2.6383   1.9242   0.10645    0\n",
      "4      3.4566    9.5228  -4.0112   -3.5944    0\n",
      "5     0.32924   -4.4552   4.5718   -0.9888    0\n",
      "...       ...       ...      ...       ...  ...\n",
      "1368  0.40614    1.3492  -1.4501  -0.55949    1\n",
      "1369  -1.3887   -4.8773   6.4774   0.34179    1\n",
      "1370  -3.7503  -13.4586  17.5932   -2.7771    1\n",
      "1371  -3.5637   -8.3827   12.393   -1.2823    1\n",
      "1372  -2.5419  -0.65804   2.6842    1.1952    1\n",
      "\n",
      "[1372 rows x 5 columns]\n"
     ]
    }
   ],
   "source": [
    "print(data)"
   ]
  },
  {
   "cell_type": "markdown",
   "id": "c4ed4699",
   "metadata": {},
   "source": [
    "Let’s plot a pie chart that shows the ratio of fake and original currency notes in the dataset. Execute the following script."
   ]
  },
  {
   "cell_type": "code",
   "execution_count": 12,
   "id": "e609efb1",
   "metadata": {},
   "outputs": [
    {
     "data": {
      "text/plain": [
       "<AxesSubplot:ylabel='auth'>"
      ]
     },
     "execution_count": 12,
     "metadata": {},
     "output_type": "execute_result"
    },
    {
     "data": {
      "image/png": "[encoded data removed]",
      "text/plain": [
       "<Figure size 432x288 with 1 Axes>"
      ]
     },
     "metadata": {},
     "output_type": "display_data"
    }
   ],
   "source": [
    "sns.set_theme(style=\"ticks\")\n",
    "\n",
    "data['auth'].value_counts().plot(kind='pie', autopct='%1.0f%%')"
   ]
  },
  {
   "cell_type": "markdown",
   "id": "acdc1fb4",
   "metadata": {},
   "source": [
    "The above pie chart shows that 56% of the currency notes are genuine while the rest of 44% of currency notes are fake."
   ]
  },
  {
   "cell_type": "markdown",
   "id": "c520630f",
   "metadata": {},
   "source": [
    "Now let’s check if our data is balanced against the target values:"
   ]
  },
  {
   "cell_type": "code",
   "execution_count": 13,
   "id": "14d38c59",
   "metadata": {},
   "outputs": [
    {
     "data": {
      "image/png": "[encoded data removed]",
      "text/plain": [
       "<Figure size 576x432 with 1 Axes>"
      ]
     },
     "metadata": {},
     "output_type": "display_data"
    }
   ],
   "source": [
    "plt.figure(figsize=(8, 6))\n",
    "plt.title('Distribution of Target', size= 18)\n",
    "sns.countplot(x=data['auth'])\n",
    "target_count = data.auth.value_counts()\n",
    "plt.annotate(s = target_count[0], xy= (-0.04, 10+target_count[0]), size=14)\n",
    "plt.annotate(s= target_count[1], xy = (0.96, 10+target_count[1]), size=14)\n",
    "plt.ylim(0, 900)\n",
    "plt.show()"
   ]
  },
  {
   "cell_type": "markdown",
   "id": "c3ce98b9",
   "metadata": {},
   "source": [
    "The dataset is fairly balanced, but for the binary classification task, we need to balance it perfectly. So let’s start preprocessing the data by doing just that."
   ]
  },
  {
   "cell_type": "markdown",
   "id": "c1b73bfd",
   "metadata": {},
   "source": [
    "# Data Processing\n",
    "Now we need to balance our data, the easiest way to do this is to randomly drop a number of instances of the overrepresented target function. This is called random undersampling.\n",
    "\n",
    "Otherwise, we could also create new synthetic data for the under-represented target class. This is called oversampling. For now, let’s start by randomly deleting 152 observations of actual banknotes:\n",
    "\n"
   ]
  },
  {
   "cell_type": "code",
   "execution_count": 14,
   "id": "55e76a8b",
   "metadata": {},
   "outputs": [
    {
     "name": "stdout",
     "output_type": "stream",
     "text": [
      "0    610\n",
      "1    610\n",
      "Name: auth, dtype: int64\n"
     ]
    }
   ],
   "source": [
    "# balance our data\n",
    "nb_to_delete = target_count[0] - target_count[1]\n",
    "data = data.sample(frac=1, random_state=42).sort_values(by='auth')\n",
    "data = data[nb_to_delete:]\n",
    "print(data['auth'].value_counts())"
   ]
  },
  {
   "cell_type": "code",
   "execution_count": 15,
   "id": "cb3d2734",
   "metadata": {},
   "outputs": [],
   "source": [
    "#divide data into features and label set\n",
    "x = data.loc[ : , data.columns != 'auth']\n",
    "y = data.loc[ : , data.columns == 'auth']\n",
    "x_train, x_test, y_train, y_test = train_test_split(x, y, test_size=.035, random_state=42)"
   ]
  },
  {
   "cell_type": "markdown",
   "id": "ec7a98c1",
   "metadata": {},
   "source": [
    "Now I will standardize the data by using the **StandardScalar** method provided by **Scikit-learn** :"
   ]
  },
  {
   "cell_type": "code",
   "execution_count": 16,
   "id": "8b7b98b8",
   "metadata": {},
   "outputs": [],
   "source": [
    "#applying scaling on training and test data\n",
    "scaler = StandardScaler() \n",
    "scaler.fit(x_train)\n",
    "x_train= scaler.transform(x_train)\n",
    "x_test = scaler.transform(x_test)"
   ]
  },
  {
   "cell_type": "markdown",
   "id": "97b8177f",
   "metadata": {},
   "source": [
    "# Logistic Regression for Fake Currency Detection\n",
    "Now, I will train and test our model for fake currency detection by using the Logistic Regressing Algorithm. Let’s first fit the data on the Logistic Regression model to train the model:"
   ]
  },
  {
   "cell_type": "code",
   "execution_count": 17,
   "id": "cf037fbb",
   "metadata": {},
   "outputs": [
    {
     "data": {
      "text/plain": [
       "LogisticRegression(random_state=42)"
      ]
     },
     "execution_count": 17,
     "metadata": {},
     "output_type": "execute_result"
    }
   ],
   "source": [
    "#training the logistic regression model\n",
    "clf = LogisticRegression(solver='lbfgs', random_state=42, multi_class='auto')\n",
    "clf.fit(x_train, y_train.values.ravel())"
   ]
  },
  {
   "cell_type": "markdown",
   "id": "e5e70f12",
   "metadata": {},
   "source": [
    "Now let’s test the accuracy of our model:"
   ]
  },
  {
   "cell_type": "code",
   "execution_count": 18,
   "id": "eb7d0968",
   "metadata": {},
   "outputs": [
    {
     "name": "stdout",
     "output_type": "stream",
     "text": [
      "              Pred.Negetive  Pred.Positive\n",
      "Act.Negetive             23              1\n",
      "Act.Positive              0             19\n",
      "/n Accuracy = 97.67%\n"
     ]
    }
   ],
   "source": [
    "#making predicions on test set\n",
    "y_pred = np.array(clf.predict(x_test))\n",
    "conf_mat = pd.DataFrame(confusion_matrix(y_test, y_pred),\n",
    "                       columns=['Pred.Negetive', 'Pred.Positive'],\n",
    "                       index= ['Act.Negetive', 'Act.Positive'])\n",
    "tn, fp, fn, tp =confusion_matrix(y_test, y_pred).ravel()\n",
    "accuracy = round((tn+tp)/(tn+fp+fn+tp), 4)\n",
    "print(conf_mat)\n",
    "print(f'/n Accuracy = {round(100*accuracy, 2)}%')"
   ]
  },
  {
   "cell_type": "markdown",
   "id": "e2cfbecf",
   "metadata": {},
   "source": [
    "The logistic regression model achieved an accuracy of 97.67%. And not only that, when our fake currency detection model predicted that a banknote was real, it was correct 100% of the time.\n",
    "\n",
    "Now let’s simulate the prediction of a single banknote. All we need to do is extract the features, scale them, and integrate them into our pre-trained model. We can also inspect the banknote probabilities of belonging to each target class:"
   ]
  },
  {
   "cell_type": "code",
   "execution_count": 19,
   "id": "ee1e5030",
   "metadata": {},
   "outputs": [
    {
     "name": "stdout",
     "output_type": "stream",
     "text": [
      "Prediction : Class 0\n",
      "Probability [0/1] : [0.68683186 0.31316814]\n"
     ]
    }
   ],
   "source": [
    "new_banknote = np.array([4.5, -8.1, 2.4, 1.4], ndmin = 2)\n",
    "new_banknote = scaler.transform(new_banknote)\n",
    "print(f'Prediction : Class {clf.predict(new_banknote)[0]}')\n",
    "print(f'Probability [0/1] : {clf.predict_proba(new_banknote)[0]}')"
   ]
  },
  {
   "cell_type": "markdown",
   "id": "cea4edad",
   "metadata": {},
   "source": [
    "The output above shows that our model performance is 97.95% which means that our probability of our machine learning model for correctly predicting whether or not a bank is not fake is 97.95%. Impressive? No?"
   ]
  },
  {
   "cell_type": "markdown",
   "id": "b819594a",
   "metadata": {},
   "source": [
    "# Making Prediction on a Single Bank Note\n",
    "Let’s now see how you can make predictions on a single banknote instead of a complete test set. To make a prediction on an individual banknote, you need values for variance, skewness, kurtosis, and entropy of the image of the banknote. Let’s print the feature values for the 50th banknote in the dataset.\n",
    "\n"
   ]
  },
  {
   "cell_type": "code",
   "execution_count": 20,
   "id": "03d42e96",
   "metadata": {},
   "outputs": [
    {
     "data": {
      "text/plain": [
       "var      3.9414\n",
       "skew    -3.2902\n",
       "curt     3.1674\n",
       "entr     1.0866\n",
       "auth          0\n",
       "Name: 450, dtype: object"
      ]
     },
     "execution_count": 20,
     "metadata": {},
     "output_type": "execute_result"
    }
   ],
   "source": [
    "data.iloc[50]"
   ]
  },
  {
   "cell_type": "markdown",
   "id": "599889a8",
   "metadata": {},
   "source": [
    "From the above output, we know that this banknote is not fake since the value of the class attribute is 0.\n",
    "\n",
    "To find the label for the 50th note in the dataset using the trained machine learning model, you need to pass the information of the 50th note in the dataset to a standard scaler which scales your feature set. Next, you need to pass the scaled dataset to the predict() method of the model that you already trained. Look at the following script for reference."
   ]
  },
  {
   "cell_type": "code",
   "execution_count": 21,
   "id": "2bffef77",
   "metadata": {},
   "outputs": [
    {
     "name": "stdout",
     "output_type": "stream",
     "text": [
      "['0']\n"
     ]
    }
   ],
   "source": [
    "single_record = scaler.transform(x.values[50].reshape(1, -1))\n",
    "\n",
    "#making Predictions on the single record\n",
    "fake_note = clf.predict(single_record)\n",
    "print(fake_note)"
   ]
  },
  {
   "cell_type": "markdown",
   "id": "2c4907f5",
   "metadata": {},
   "source": [
    "The above output shows that our banknote is not fake which is the correct output."
   ]
  },
  {
   "cell_type": "code",
   "execution_count": null,
   "id": "d94d30cb",
   "metadata": {},
   "outputs": [],
   "source": []
  }
 ],
 "metadata": {
  "kernelspec": {
   "display_name": "Python 3 (ipykernel)",
   "language": "python",
   "name": "python3"
  },
  "language_info": {
   "codemirror_mode": {
    "name": "ipython",
    "version": 3
   },
   "file_extension": ".py",
   "mimetype": "text/x-python",
   "name": "python",
   "nbconvert_exporter": "python",
   "pygments_lexer": "ipython3",
   "version": "3.9.7"
  },
  "varInspector": {
   "cols": {
    "lenName": 16,
    "lenType": 16,
    "lenVar": 40
   },
   "kernels_config": {
    "python": {
     "delete_cmd_postfix": "",
     "delete_cmd_prefix": "del ",
     "library": "var_list.py",
     "varRefreshCmd": "print(var_dic_list())"
    },
    "r": {
     "delete_cmd_postfix": ") ",
     "delete_cmd_prefix": "rm(",
     "library": "var_list.r",
     "varRefreshCmd": "cat(var_dic_list()) "
    }
   },
   "types_to_exclude": [
    "module",
    "function",
    "builtin_function_or_method",
    "instance",
    "_Feature"
   ],
   "window_display": false
  }
 },
 "nbformat": 4,
 "nbformat_minor": 5
}
